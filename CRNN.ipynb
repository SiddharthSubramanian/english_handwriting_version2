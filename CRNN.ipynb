{
 "cells": [
  {
   "cell_type": "markdown",
   "metadata": {},
   "source": [
    "# English Handwritten Text Recognition CRNN Model\n",
    "<br>\n",
    "References: \n",
    "* https://www-i6.informatik.rwth-aachen.de/publications/download/1014/VoigtlaenderPaulDoetschPatrickNeyHermann--HwritingRecognitionwithLargeMultidimensionalLongShort-TermMemoryRecurrentNeuralNetworks--2016.pdf\n",
    "* http://people.idsia.ch/~juergen/nips2009.pdf\n",
    "* https://web.stanford.edu/~jurafsky/slp3/4.pdf"
   ]
  },
  {
   "cell_type": "markdown",
   "metadata": {},
   "source": [
    "### Import required packages "
   ]
  },
  {
   "cell_type": "code",
   "execution_count": 1,
   "metadata": {
    "collapsed": false
   },
   "outputs": [
    {
     "ename": "ModuleNotFoundError",
     "evalue": "No module named 'warpctc_tensorflow'",
     "traceback": [
      "\u001b[0;31m---------------------------------------------------------------------------\u001b[0m",
      "\u001b[0;31mModuleNotFoundError\u001b[0m                       Traceback (most recent call last)",
      "\u001b[0;32m<ipython-input-1-6f9b4a5efacd>\u001b[0m in \u001b[0;36m<module>\u001b[0;34m()\u001b[0m\n\u001b[1;32m      9\u001b[0m \u001b[0;32mimport\u001b[0m \u001b[0mtempfile\u001b[0m\u001b[0;34m\u001b[0m\u001b[0m\n\u001b[1;32m     10\u001b[0m \u001b[0;32mimport\u001b[0m \u001b[0mtensorflow\u001b[0m \u001b[0;32mas\u001b[0m \u001b[0mtf\u001b[0m\u001b[0;34m\u001b[0m\u001b[0m\n\u001b[0;32m---> 11\u001b[0;31m \u001b[0;32mimport\u001b[0m \u001b[0mwarpctc_tensorflow\u001b[0m\u001b[0;34m\u001b[0m\u001b[0m\n\u001b[0m\u001b[1;32m     12\u001b[0m \u001b[0;32mfrom\u001b[0m \u001b[0mtensorflow\u001b[0m\u001b[0;34m.\u001b[0m\u001b[0mpython\u001b[0m\u001b[0;34m.\u001b[0m\u001b[0mframework\u001b[0m \u001b[0;32mimport\u001b[0m \u001b[0mops\u001b[0m\u001b[0;34m\u001b[0m\u001b[0m\n\u001b[1;32m     13\u001b[0m \u001b[0;32mfrom\u001b[0m \u001b[0mtensorflow\u001b[0m\u001b[0;34m.\u001b[0m\u001b[0mpython\u001b[0m\u001b[0;34m.\u001b[0m\u001b[0mframework\u001b[0m \u001b[0;32mimport\u001b[0m \u001b[0mdtypes\u001b[0m\u001b[0;34m\u001b[0m\u001b[0m\n",
      "\u001b[0;31mModuleNotFoundError\u001b[0m: No module named 'warpctc_tensorflow'"
     ],
     "output_type": "error"
    }
   ],
   "source": [
    "import numpy as np\n",
    "import glob\n",
    "import os\n",
    "import time\n",
    "from xml.etree import ElementTree\n",
    "import cv2\n",
    "import matplotlib.pyplot as plt\n",
    "import pickle\n",
    "import tempfile\n",
    "import tensorflow as tf\n",
    "import warpctc_tensorflow\n",
    "from tensorflow.python.framework import ops\n",
    "from tensorflow.python.framework import dtypes\n",
    "from utils import sparse_tuple_from as sparse_tuple_from\n",
    "from md_lstm import *\n",
    "from utils import *\n",
    "from spell import correction\n",
    "np.random.seed(1)"
   ]
  },
  {
   "cell_type": "markdown",
   "metadata": {},
   "source": [
    "### Import and consolidate data "
   ]
  },
  {
   "cell_type": "code",
   "execution_count": 3,
   "metadata": {
    "collapsed": true
   },
   "outputs": [],
   "source": [
    "def readData(data_folder_path, height_cap, width_cap, lab_length_cap):\n",
    "    \"\"\"\n",
    "    Return consolidated and preprocessed images (list) and labels (list) \n",
    "    imported from the provided locations. \n",
    "    Character mapping dictionary is also returned to decode labels. \n",
    "    \n",
    "    Arguments:\n",
    "    data_folder_path  -- Path of folder containing IAM lines folder, lines.txt,\n",
    "    testset.txt (combined testset and validationset2), trainset.txt, validationset.txt and chars.txt\n",
    "    \"\"\"\n",
    "    \n",
    "    # Create char_map\n",
    "    with open(data_folder_path+'/chars.txt', 'rb') as f:\n",
    "        all_chars = f.read().decode('unicode_escape')\n",
    "        chars = all_chars.split()\n",
    "    char_map = {value: idx for (idx, value) in enumerate(chars)}\n",
    "\n",
    "    # Extract label text and IDs from lines.txt\n",
    "    with open(data_folder_path+'/lines.txt', 'rb') as f:\n",
    "        char = f.read().decode('unicode_escape')\n",
    "        line_raw = char[1025:].splitlines()\n",
    "    line_data = {line.split()[0] : (int(line.split()[2]), \n",
    "                                [char_map[char] for char in line.split()[8]]) for line in line_raw}\n",
    "    \n",
    "    # Extract IDs for test, train and val sets\n",
    "    with open(data_folder_path+'/trainset.txt', 'rb') as f:\n",
    "        IDs = f.read().decode('unicode_escape')\n",
    "        trainIDs = IDs.splitlines()\n",
    "    with open(data_folder_path+'/validationset.txt', 'rb') as f:\n",
    "        IDs = f.read().decode('unicode_escape')\n",
    "        valIDs = IDs.splitlines()\n",
    "    with open(data_folder_path+'/testset.txt', 'rb') as f:\n",
    "        IDs = f.read().decode('unicode_escape')\n",
    "        testIDs = IDs.splitlines()\n",
    "    \n",
    "    # For random order generation (shuffling)\n",
    "    train_p = np.random.permutation(len(trainIDs))\n",
    "    val_p = np.random.permutation(len(valIDs))\n",
    "    test_p = np.random.permutation(len(testIDs))\n",
    "    \n",
    "    # Import images and labels (map label IDs with label_dict)\n",
    "    train_images, train_labels, train_im_widths, train_lab_lengths = np.zeros(\n",
    "        shape = (len(trainIDs), height_cap, width_cap), dtype=np.float32), [None]*len(trainIDs), np.zeros(\n",
    "        shape = (len(trainIDs))), np.zeros(\n",
    "        shape = (len(trainIDs)))\n",
    "    val_images, val_labels, val_im_widths, val_lab_lengths = np.zeros(\n",
    "        shape = (len(valIDs), height_cap, width_cap), dtype=np.float32), [None]*len(valIDs), np.zeros(\n",
    "        shape = (len(valIDs))), np.zeros(\n",
    "        shape = (len(valIDs)))\n",
    "    test_images, test_labels, test_im_widths, test_lab_lengths = np.zeros(\n",
    "        shape = (len(testIDs), height_cap, width_cap), dtype=np.float32), [None]*len(testIDs), np.zeros(\n",
    "        shape = (len(testIDs))), np.zeros(\n",
    "        shape = (len(testIDs)))\n",
    "    \n",
    "    im_num, train_im_num, val_im_num, test_im_num = 0, 0, 0, 0\n",
    "    for im_path in glob.glob(data_folder_path + '/IAM_lines/*.png'):\n",
    "        im = cv2.imread(im_path, 0)\n",
    "        im_ID = im_path[im_path.rfind('/')+1:-4]\n",
    "        \n",
    "        # Threshold images to remove background and invert colors\n",
    "        im[im>line_data[im_ID][0]] = 255        \n",
    "        im = cv2.bitwise_not(im)\n",
    "        \n",
    "        im = im.astype(np.float32)\n",
    "        im = np.divide(im, 255.0)\n",
    "        \n",
    "        # Deskew image (remove slant)\n",
    "        im = bounding_box(deskew(im, get_skew_angle(im)))\n",
    "\n",
    "        # Resize - put a height cap and resize accordingly\n",
    "        out_width = int((im.shape[1]/im.shape[0])*height_cap)\n",
    "\n",
    "        if out_width < width_cap:\n",
    "            width = out_width\n",
    "            \n",
    "            im_without_pad = cv2.resize(im, (out_width, height_cap))\n",
    "            im = np.zeros((height_cap, width_cap), dtype=np.float32)\n",
    "\n",
    "            im_without_pad = im_without_pad.astype(np.float32)\n",
    "            im[:,:out_width] = im_without_pad\n",
    "        else:\n",
    "            width = width_cap\n",
    "            im = cv2.resize(im, (width_cap, height_cap))\n",
    "            \n",
    "\n",
    "        # Store image and corresponding label\n",
    "        lab = np.array(line_data[im_ID][1])\n",
    "        \n",
    "        if im_ID in trainIDs:\n",
    "            train_im_widths[train_p[train_im_num]] = width\n",
    "            train_lab_lengths[train_p[train_im_num]] = len(lab)\n",
    "            train_images[train_p[train_im_num]] = im\n",
    "            train_labels[train_p[train_im_num]] = lab\n",
    "            train_im_num+=1\n",
    "        elif im_ID in valIDs:\n",
    "            val_im_widths[val_p[val_im_num]] = width\n",
    "            val_lab_lengths[val_p[val_im_num]] = len(lab)\n",
    "            val_images[val_p[val_im_num]] = im\n",
    "            val_labels[val_p[val_im_num]] = lab\n",
    "            val_im_num+=1\n",
    "        elif im_ID in testIDs:\n",
    "            test_im_widths[test_p[test_im_num]] = width\n",
    "            test_lab_lengths[test_p[test_im_num]] = len(lab)\n",
    "            test_images[test_p[test_im_num]] = im\n",
    "            test_labels[test_p[test_im_num]] = lab\n",
    "            test_im_num+=1\n",
    "        \n",
    "        im_num+=1\n",
    "        if im_num%1000 == 0:\n",
    "            print(im_num, im_ID)\n",
    "                \n",
    "    return {'train_images' : train_images, 'train_labels' : train_labels, \n",
    "            'train_im_widths' : train_im_widths, 'train_lab_lengths' : train_lab_lengths, \n",
    "            'val_images' : val_images, 'val_labels' : val_labels,\n",
    "             'val_im_widths' : val_im_widths, 'val_lab_lengths' : val_lab_lengths,\n",
    "            'test_images' : test_images, 'test_labels' : test_labels,\n",
    "             'test_im_widths' : test_im_widths, 'test_lab_lengths' : test_lab_lengths,\n",
    "            'char_map' : char_map}"
   ]
  },
  {
   "cell_type": "code",
   "execution_count": 2,
   "metadata": {
    "collapsed": false,
    "scrolled": true
   },
   "outputs": [
    {
     "ename": "NameError",
     "evalue": "name 'readData' is not defined",
     "traceback": [
      "\u001b[0;31m---------------------------------------------------------------------------\u001b[0m",
      "\u001b[0;31mNameError\u001b[0m                                 Traceback (most recent call last)",
      "\u001b[0;32m<ipython-input-2-fa7a43697e86>\u001b[0m in \u001b[0;36m<module>\u001b[0;34m()\u001b[0m\n\u001b[0;32m----> 1\u001b[0;31m \u001b[0mdata\u001b[0m \u001b[0;34m=\u001b[0m \u001b[0mreadData\u001b[0m\u001b[0;34m(\u001b[0m\u001b[0;34m'./Data'\u001b[0m\u001b[0;34m,\u001b[0m \u001b[0mheight_cap\u001b[0m\u001b[0;34m=\u001b[0m\u001b[0;36m40\u001b[0m\u001b[0;34m,\u001b[0m \u001b[0mwidth_cap\u001b[0m\u001b[0;34m=\u001b[0m\u001b[0;36m800\u001b[0m\u001b[0;34m,\u001b[0m \u001b[0mlab_length_cap\u001b[0m\u001b[0;34m=\u001b[0m\u001b[0;36m100\u001b[0m\u001b[0;34m)\u001b[0m\u001b[0;34m\u001b[0m\u001b[0m\n\u001b[0m",
      "\u001b[0;31mNameError\u001b[0m: name 'readData' is not defined"
     ],
     "output_type": "error"
    }
   ],
   "source": [
    "data = readData('./Data', height_cap=40, width_cap=800, lab_length_cap=100)"
   ]
  },
  {
   "cell_type": "code",
   "execution_count": 3,
   "metadata": {
    "collapsed": true
   },
   "outputs": [],
   "source": [
    "images = data['train_images']\n",
    "labels = data['train_labels']\n",
    "im_widths = data['train_im_widths']\n",
    "lab_lengths = data['train_lab_lengths']\n",
    "char_map = data['char_map']\n",
    "val_images = data['val_images']\n",
    "val_labels = data['val_labels']\n",
    "val_im_widths = data['val_im_widths']\n",
    "val_lab_lengths = data['val_lab_lengths']\n",
    "test_images = data['test_images']\n",
    "test_labels = data['test_labels']\n",
    "test_im_widths = data['test_im_widths']\n",
    "test_lab_lengths = data['test_lab_lengths']"
   ]
  },
  {
   "cell_type": "code",
   "execution_count": 12,
   "metadata": {
    "collapsed": true
   },
   "outputs": [],
   "source": [
    "# pickle.dump(data, open('./Data/input_data_fixed_len_start_0_h40_w800.pickle', 'wb'))\n",
    "# pickle.dump(char_map, open('./Data/char_map_fixed_len_start_0_h40_w800.pickle', 'wb'))"
   ]
  },
  {
   "cell_type": "code",
   "execution_count": 2,
   "metadata": {
    "collapsed": true
   },
   "outputs": [],
   "source": [
    "data = pickle.load(open('./Data/input_data_fixed_len_start_0_h40_w800.pickle', 'rb'))"
   ]
  },
  {
   "cell_type": "code",
   "execution_count": 4,
   "metadata": {
    "collapsed": true
   },
   "outputs": [],
   "source": [
    "char_map_inv = {i:j for j,i in char_map.items()}"
   ]
  },
  {
   "cell_type": "code",
   "execution_count": 5,
   "metadata": {
    "collapsed": false
   },
   "outputs": [
    {
     "data": {
      "image/png": "[encoded data removed]",
      "text/plain": [
       "<matplotlib.figure.Figure at 0x7f06f0c81a90>"
      ]
     },
     "metadata": {},
     "output_type": "display_data"
    },
    {
     "name": "stdout",
     "output_type": "stream",
     "text": [
      "taken|to|St|Thomas's|Hospital|it|was|his\n"
     ]
    }
   ],
   "source": [
    "# Check random image\n",
    "n = 1005\n",
    "plt.figure(figsize = (20,2))\n",
    "plt.imshow(images[n], cmap='gray')\n",
    "plt.show()\n",
    "print(''.join([char_map_inv[i] for i in labels[n]]))"
   ]
  },
  {
   "cell_type": "markdown",
   "metadata": {},
   "source": [
    "### Processing "
   ]
  },
  {
   "cell_type": "code",
   "execution_count": 6,
   "metadata": {
    "collapsed": false
   },
   "outputs": [
    {
     "data": {
      "text/plain": [
       "79"
      ]
     },
     "execution_count": 6,
     "metadata": {},
     "output_type": "execute_result"
    }
   ],
   "source": [
    "len(char_map)"
   ]
  },
  {
   "cell_type": "code",
   "execution_count": 182,
   "metadata": {
    "collapsed": true
   },
   "outputs": [],
   "source": [
    "# # Only keep sentences with sequence length <= im_width//8\n",
    "# indices = []\n",
    "# for idx, val in enumerate(labels):\n",
    "#     if len(val)<=(im_widths[idx]//8):\n",
    "#         indices.append(idx)"
   ]
  },
  {
   "cell_type": "code",
   "execution_count": 184,
   "metadata": {
    "collapsed": true
   },
   "outputs": [],
   "source": [
    "# images = images[indices]\n",
    "# labels = np.array(labels)\n",
    "# labels = labels[indices]\n",
    "# labels = list(labels)\n",
    "# lab_lengths = lab_lengths[indices]\n",
    "# im_widths = im_widths[indices]"
   ]
  },
  {
   "cell_type": "code",
   "execution_count": 7,
   "metadata": {
    "collapsed": true
   },
   "outputs": [],
   "source": [
    "# Uncomment and run if using Warp CTC loss - adds <BLANK> label\n",
    "char_map['<BLANK>'] = len(char_map)\n",
    "char_map_inv = {i:j for j,i in char_map.items()}"
   ]
  },
  {
   "cell_type": "markdown",
   "metadata": {},
   "source": [
    "## CRNN "
   ]
  },
  {
   "cell_type": "code",
   "execution_count": 8,
   "metadata": {
    "collapsed": true
   },
   "outputs": [],
   "source": [
    "class Config_CRNN():\n",
    "    im_height = 40\n",
    "    im_width = 800\n",
    "    lab_length_cap = 100\n",
    "    num_epochs = 350\n",
    "    batch_size = 1\n",
    "    \n",
    "    # CNN\n",
    "    conv1_patch_size = 3\n",
    "    conv2_patch_size = 3\n",
    "    conv3_patch_size = 3\n",
    "    conv4_patch_size = 3\n",
    "    conv1_depth = 12\n",
    "    conv2_depth = 24\n",
    "    conv3_depth = 48\n",
    "    conv4_depth = 96\n",
    "    \n",
    "    # RNN\n",
    "    rnn_num_hidden = 256\n",
    "    num_layers = 4\n",
    "    \n",
    "    # Number of classes\n",
    "    num_classes = 80\n",
    "    \n",
    "config_CRNN = Config_CRNN()"
   ]
  },
  {
   "cell_type": "markdown",
   "metadata": {},
   "source": [
    "### Build the architecture using TensorFlow "
   ]
  },
  {
   "cell_type": "code",
   "execution_count": 10,
   "metadata": {
    "collapsed": true
   },
   "outputs": [],
   "source": [
    "class CRNN(object):\n",
    "    \n",
    "    def __init__(self, config, savefile):\n",
    "        \n",
    "        self.config = config\n",
    "        self.savefile = savefile\n",
    "        tf.reset_default_graph()\n",
    "        \n",
    "    def read_and_decode(self):\n",
    "        \n",
    "        self.images = tf.placeholder(tf.float32,\n",
    "                                          shape=(None, self.config.im_height, \n",
    "                                                 self.config.im_width, 1))\n",
    "#         self.labels = tf.placeholder(tf.int32,\n",
    "#                                           shape=(self.config.batch_size, self.config.lab_length_cap))\n",
    "        self.labels_sparse = tf.sparse_placeholder(tf.int32)\n",
    "        self.lengths = tf.placeholder(tf.int32,\n",
    "                                          shape=(None))\n",
    "        self.lab_lengths = tf.placeholder(tf.int32,\n",
    "                                          shape=(None))\n",
    "        \n",
    "        self.val = tf.placeholder(tf.bool)\n",
    "    \n",
    "    def calc_ler(self, predicted, targets):\n",
    "        return tf.edit_distance(tf.cast(predicted, tf.int32), targets, normalize=True)\n",
    "    \n",
    "    def lrelu(x, alpha):\n",
    "        return tf.nn.relu(x) - alpha * tf.nn.relu(-x)\n",
    "    \n",
    "    def net(self):\n",
    "\n",
    "        # Define CNN variables\n",
    "        intitalizer = tf.contrib.layers.xavier_initializer_conv2d()\n",
    "        self.layer1_weights = tf.Variable(intitalizer(\n",
    "            [self.config.conv1_patch_size, self.config.conv1_patch_size, 1, self.config.conv1_depth]),\n",
    "                                          name='conv1_W')\n",
    "        self.layer1_biases = tf.Variable(tf.zeros([self.config.conv1_depth]), name='conv1_b')\n",
    "        self.layer2_weights = tf.Variable(intitalizer(\n",
    "            [self.config.conv2_patch_size, self.config.conv2_patch_size, \n",
    "             self.config.conv1_depth, self.config.conv2_depth]), name='conv2_W')\n",
    "        self.layer2_biases = tf.Variable(tf.zeros([self.config.conv2_depth]), name='conv2_b')\n",
    "        self.layer3_weights = tf.Variable(intitalizer(\n",
    "            [self.config.conv3_patch_size, self.config.conv3_patch_size, \n",
    "             self.config.conv2_depth, self.config.conv3_depth]), name='conv3_W')\n",
    "        self.layer3_biases = tf.Variable(tf.zeros([self.config.conv3_depth]), name='conv3_b')\n",
    "        self.layer4_weights = tf.Variable(intitalizer(\n",
    "            [self.config.conv4_patch_size, self.config.conv4_patch_size, \n",
    "             self.config.conv3_depth, self.config.conv4_depth]), name='conv4_W')\n",
    "        self.layer4_biases = tf.Variable(tf.zeros([self.config.conv4_depth]), name='conv4_b')\n",
    "        self.out_W = tf.Variable(tf.truncated_normal([2*self.config.rnn_num_hidden,\n",
    "                                                 self.config.num_classes],\n",
    "                                                stddev=0.1), name='out_W')\n",
    "        self.out_b = tf.Variable(tf.constant(0., shape=[self.config.num_classes]), name='out_b')\n",
    "\n",
    "        def model(images, seq_lengths, batch_size):\n",
    "            # ==================1==================\n",
    "            # CNN\n",
    "            with tf.name_scope('CNN_1'):\n",
    "                conv = tf.nn.conv2d(images, self.layer1_weights, [1, 1, 1, 1],\n",
    "                                    padding='SAME')\n",
    "                self.hidden_1 = lrelu(conv + self.layer1_biases)\n",
    "                conv1_out = tf.nn.max_pool(self.hidden_1, ksize=[1, 2, 2, 1], strides=[1, 2, 2, 1],\n",
    "                                      padding='SAME')\n",
    "\n",
    "            # ==================2==================\n",
    "            # CNN\n",
    "            with tf.name_scope('CNN_2'):\n",
    "                conv = tf.nn.conv2d(conv1_out, self.layer2_weights, [1, 1, 1, 1],\n",
    "                                    padding='SAME')\n",
    "                self.hidden_2 = lrelu(conv + self.layer2_biases)\n",
    "                conv2_out = tf.nn.max_pool(self.hidden_2, ksize=[1, 2, 2, 1], strides=[1, 2, 2, 1],\n",
    "                                      padding='SAME')\n",
    "\n",
    "            # ==================3==================\n",
    "            # CNN\n",
    "            with tf.name_scope('CNN_3'):\n",
    "                conv = tf.nn.conv2d(conv2_out, self.layer3_weights, [1, 1, 1, 1],\n",
    "                                    padding='SAME')\n",
    "                self.hidden_3 = lrelu(conv + self.layer3_biases)\n",
    "                conv3_out = tf.nn.max_pool(self.hidden_3, ksize=[1, 2, 2, 1], strides=[1, 2, 2, 1],\n",
    "                                      padding='SAME')\n",
    "\n",
    "            # ==================4==================\n",
    "            # CNN\n",
    "            with tf.name_scope('CNN_4'):\n",
    "                conv = tf.nn.conv2d(conv3_out, self.layer4_weights, [1, 1, 1, 1],\n",
    "                                    padding='SAME')\n",
    "                self.conv4_out = lrelu(conv + self.layer4_biases)\n",
    "\n",
    "            cnn_out = tf.reduce_sum(self.conv4_out, axis=1)\n",
    "            cnn_out = tf.transpose(cnn_out, [1, 0, 2])\n",
    "            \n",
    "            # Dropout\n",
    "            if not self.val:\n",
    "                cnn_out = tf.nn.dropout(cnn_out, keep_prob=0.8)\n",
    "            \n",
    "            if self.val:\n",
    "                # Multi-Stacked RNN - reuse variables for validation set\n",
    "                with tf.variable_scope('MultiRNN', reuse=True) as scope:\n",
    "                    stacked_rnn = []\n",
    "                    for i in range(self.config.num_layers):\n",
    "                        stacked_rnn.append(tf.nn.rnn_cell.BasicLSTMCell(num_units=self.config.rnn_num_hidden,\n",
    "                                                                   state_is_tuple=True))\n",
    "                    with tf.variable_scope('forward') as fw_scope:\n",
    "                        cell_fw = tf.nn.rnn_cell.MultiRNNCell(stacked_rnn,\n",
    "                                                              state_is_tuple=True)\n",
    "                    with tf.variable_scope('backward') as bw_scope:\n",
    "                        cell_bw = tf.nn.rnn_cell.MultiRNNCell(stacked_rnn,\n",
    "                                                              state_is_tuple=True)\n",
    "                    self.output, self.state = tf.nn.bidirectional_dynamic_rnn(\n",
    "                        cell_fw,\n",
    "                        cell_bw,\n",
    "                        inputs=cnn_out,\n",
    "                        dtype=tf.float32,\n",
    "                        sequence_length=seq_lengths,\n",
    "                        time_major=True,\n",
    "                        scope='MultiRNN'\n",
    "                    )\n",
    "            else:\n",
    "                # Multi-Stacked RNN        \n",
    "                with tf.variable_scope('MultiRNN') as scope:\n",
    "                    stacked_rnn = []\n",
    "                    for i in range(self.config.num_layers):\n",
    "                        stacked_rnn.append(tf.nn.rnn_cell.DropoutWrapper(\n",
    "                            tf.nn.rnn_cell.BasicLSTMCell(num_units=self.config.rnn_num_hidden,\n",
    "                                                                   state_is_tuple=True),\n",
    "                            state_keep_prob=1.0,\n",
    "                            output_keep_prob=0.65,\n",
    "                            variational_recurrent=True,\n",
    "                            input_size=self.config.im_width//8,\n",
    "                            dtype = tf.float32))\n",
    "                    with tf.variable_scope('forward') as fw_scope:\n",
    "                        cell_fw = tf.nn.rnn_cell.MultiRNNCell(stacked_rnn,\n",
    "                                                              state_is_tuple=True)\n",
    "                    with tf.variable_scope('backward') as bw_scope:\n",
    "                        cell_bw = tf.nn.rnn_cell.MultiRNNCell(stacked_rnn,\n",
    "                                                              state_is_tuple=True)\n",
    "                    self.output, self.state = tf.nn.bidirectional_dynamic_rnn(\n",
    "                        cell_fw,\n",
    "                        cell_bw,\n",
    "                        inputs=cnn_out,\n",
    "                        dtype=tf.float32,\n",
    "                        sequence_length=seq_lengths,\n",
    "                        time_major=True,\n",
    "                        scope='MultiRNN'\n",
    "                    )\n",
    "            \n",
    "            # Fully Connected\n",
    "            with tf.name_scope('Dense'):\n",
    "                \n",
    "                self.output = tf.concat(self.output, 2)\n",
    "                \n",
    "                # Reshaping to apply the same weights over the timesteps\n",
    "                self.output = tf.reshape(self.output, [-1, 2*self.config.rnn_num_hidden])\n",
    "\n",
    "                # Doing the affine projection\n",
    "                self.logits = tf.matmul(self.output, self.out_W) + self.out_b\n",
    "\n",
    "                \n",
    "            # Reshaping back to the original shape\n",
    "            logits = tf.reshape(self.logits, [batch_size, -1, self.config.num_classes])\n",
    "\n",
    "            # Time major\n",
    "            return tf.transpose(logits, (1, 0, 2))\n",
    "        \n",
    "        \n",
    "        \n",
    "        logits = model(self.images, self.lengths, self.config.batch_size)\n",
    "        \n",
    "        # For saving the model\n",
    "        self.saver = tf.train.Saver()\n",
    "\n",
    "        # Training computation\n",
    "        self.loss = warpctc_tensorflow.ctc(logits, self.labels_sparse.values,\n",
    "                                           self.lab_lengths, self.lengths, self.config.num_classes-1)\n",
    "        self.cost = tf.reduce_mean(self.loss)\n",
    "        \n",
    "        # Optimizer.\n",
    "        self.optimizer = tf.train.RMSPropOptimizer(0.00027).minimize(self.loss)\n",
    "        \n",
    "        # Training predictions and accuracy\n",
    "        self.prediction = tf.nn.ctc_beam_search_decoder(logits, \n",
    "                                                    sequence_length=self.lengths,\n",
    "                                                   merge_repeated=True)\n",
    "        \n",
    "        # Calculate ler\n",
    "        self.ler = self.calc_ler(self.prediction[0][0], self.labels_sparse)\n",
    "        \n",
    "        \n",
    "    def train(self):\n",
    "                    \n",
    "        num_steps = int((self.config.num_epochs*len(images))/self.config.batch_size)\n",
    "                \n",
    "        tf.reset_default_graph()\n",
    "\n",
    "        self.read_and_decode()\n",
    "        self.val = False\n",
    "        self.net()\n",
    "\n",
    "        # The op for initializing the variables.\n",
    "        init_op = tf.group(tf.global_variables_initializer(),\n",
    "                           tf.local_variables_initializer())\n",
    "        \n",
    "        # TensorBoard Summaries\n",
    "        train_cost_summary = tf.summary.scalar(\"training_cost\", self.cost)\n",
    "        train_ler_summary = tf.summary.scalar(\"training_ler\", tf.reduce_mean(self.ler))\n",
    "\n",
    "        # Convolution Summaries\n",
    "        conv_l1_W = tf.summary.histogram(\"conv_l1_W\", self.layer1_weights)\n",
    "        conv_l1_b = tf.summary.histogram(\"conv_l1_b\", self.layer1_biases)\n",
    "        conv_l1_Act = tf.summary.histogram(\"conv_l1_Act\", self.hidden_1)\n",
    "        conv_l2_W = tf.summary.histogram(\"conv_l2_W\", self.layer2_weights)\n",
    "        conv_l2_b = tf.summary.histogram(\"conv_l2_b\", self.layer2_biases)\n",
    "        conv_l2_Act = tf.summary.histogram(\"conv_l2_Act\", self.hidden_2)\n",
    "        conv_l3_W = tf.summary.histogram(\"conv_l3_W\", self.layer3_weights)\n",
    "        conv_l3_b = tf.summary.histogram(\"conv_l3_b\", self.layer3_biases)\n",
    "        conv_l3_Act = tf.summary.histogram(\"conv_l3_Act\", self.hidden_3)\n",
    "        conv_l4_W = tf.summary.histogram(\"conv_l4_W\", self.layer4_weights)\n",
    "        conv_l4_b = tf.summary.histogram(\"conv_l4_b\", self.layer4_biases)\n",
    "        conv_l4_Act = tf.summary.histogram(\"conv_l4_Act\", self.conv4_out)\n",
    "        \n",
    "        # RNN and Dense Summaries\n",
    "        rnn_out = tf.summary.histogram(\"rnn_out\", self.output)\n",
    "        dense_W = tf.summary.histogram(\"dense_W\", self.out_W)\n",
    "        dense_b = tf.summary.histogram(\"dense_b\", self.out_b)\n",
    "        dense_logits = tf.summary.histogram(\"dense_logits\", self.logits)\n",
    "        \n",
    "        with tf.Session() as sess:\n",
    "                    \n",
    "            summaries = tf.summary.merge_all()\n",
    "            \n",
    "            writer = tf.summary.FileWriter(\"./TensorBoard/lines\", sess.graph)\n",
    "#             run_metadata = tf.RunMetadata()\n",
    "#             writer.add_run_metadata(run_metadata, 'compute')\n",
    "            \n",
    "            sess.run(init_op)\n",
    "            print('Initialized')\n",
    "            \n",
    "            start = time.time()\n",
    "            steps_time = start\n",
    "            epoch_time = start\n",
    "            \n",
    "            epoch = 1\n",
    "            epoch_train_cost = []\n",
    "            epoch_train_ler = []\n",
    "            \n",
    "            for step in range(num_steps):\n",
    "\n",
    "                offset = (step * self.config.batch_size) % (len(images) - self.config.batch_size+1)\n",
    "                batch_images = images[offset:(offset + self.config.batch_size), :, :]\n",
    "                batch_images = batch_images.reshape((self.config.batch_size, self.config.im_height,\n",
    "                                             self.config.im_width, 1))\n",
    "                batch_labels = labels[offset:(offset + self.config.batch_size)]\n",
    "                batch_labels_sparse = sparse_tuple_from(batch_labels)\n",
    "                batch_lengths = im_widths[offset:(offset + self.config.batch_size)]//8\n",
    "                batch_lab_lengths = lab_lengths[offset:(offset + self.config.batch_size)]\n",
    "\n",
    "                feed_dict = {self.images : batch_images, self.labels_sparse : batch_labels_sparse,\n",
    "                             self.lengths : batch_lengths, self.lab_lengths : batch_lab_lengths}\n",
    "                \n",
    "                self.val = False\n",
    "                _, c, ler_, predictions, summ = sess.run([self.optimizer, self.cost, self.ler,\n",
    "                                                          self.prediction, summaries],\n",
    "                                                         feed_dict=feed_dict)\n",
    "                writer.add_summary(summ, step)\n",
    "                \n",
    "                epoch_train_cost.append(c)\n",
    "                epoch_train_ler.append(ler_)\n",
    "                \n",
    "                if (step % 6000 == 0):\n",
    "                    preds = np.zeros((predictions[0][0].dense_shape))\n",
    "                    i =  0\n",
    "                    for idx in predictions[0][0].indices:\n",
    "                        preds[idx[0]][idx[1]] = predictions[0][0].values[i]\n",
    "                        i+=1\n",
    "                    print('Step %d:' % (step), round(time.time() - steps_time), 'seconds')\n",
    "                    steps_time = time.time()\n",
    "                    decoded_pred = [''.join([''.join([char_map_inv[j] for j in i]) for i in preds])]\n",
    "                    print('Minibatch cost at step %d: %f' % (step, c))\n",
    "                    print('Label =', ''.join([''.join([char_map_inv[j] for j in i]) for i in batch_labels]))\n",
    "                    print('Prediction =', ''.join(decoded_pred))\n",
    "                    print('Prediction with spell check =', \n",
    "                          '|'.join([correction(word) if word != '' else '' \n",
    "                                    for word in decoded_pred[0].split('|')]))\n",
    "\n",
    "                if (step!=0 and (step+1) % int(len(images)/self.config.batch_size) == 0):\n",
    "\n",
    "                    print('Epoch', epoch, 'Completed')\n",
    "                    print('Time =', round(time.time() - epoch_time), 'seconds')\n",
    "                    \n",
    "                    # Getting validation prediction, loss and ler - passing one sasmple at a time\n",
    "                    # as CTC gives very bad results if all are passed at once (maybe due to length)\n",
    "                    epoch_val_cost = []\n",
    "                    epoch_val_ler = []\n",
    "                    for val_step in range(len(val_images)):\n",
    "                        val_offset = (val_step * self.config.batch_size) % (len(val_images) - self.config.batch_size+1)\n",
    "                        batch_val_images = val_images[val_offset:(val_offset + self.config.batch_size), :, :]\n",
    "                        batch_val_images = batch_val_images.reshape((self.config.batch_size, \n",
    "                                                                     self.config.im_height,\n",
    "                                                                     self.config.im_width, 1))\n",
    "                        batch_val_labels = val_labels[val_offset:(val_offset + self.config.batch_size)]\n",
    "                        batch_val_labels_sparse = sparse_tuple_from(batch_val_labels)\n",
    "                        batch_val_lengths = val_im_widths[val_offset:(val_offset + self.config.batch_size)]//8\n",
    "                        batch_val_lab_lengths = val_lab_lengths[val_offset:(val_offset + self.config.batch_size)]\n",
    "                        \n",
    "                        val_feed_dict = {self.images : batch_val_images, \n",
    "                                         self.labels_sparse : batch_val_labels_sparse,\n",
    "                                         self.lengths : batch_val_lengths, \n",
    "                                         self.lab_lengths : batch_val_lab_lengths}\n",
    "                        \n",
    "                        self.val = True\n",
    "                        val_cost, val_ler = sess.run([self.cost, self.ler], feed_dict=val_feed_dict)\n",
    "                        \n",
    "                        epoch_val_cost.append(val_cost)\n",
    "                        epoch_val_ler.append(val_ler)\n",
    "                        \n",
    "                    # Writing values to TensoLogs and printing epoch results\n",
    "                    epoch_val_cost, epoch_val_ler = np.mean(epoch_val_cost), np.mean(epoch_val_ler)\n",
    "                    writer.add_summary(tf.Summary(value=[tf.Summary.Value(tag=\"val_cost\", \n",
    "                                                                          simple_value=epoch_val_cost)]), epoch)\n",
    "                    writer.add_summary(tf.Summary(value=[tf.Summary.Value(tag=\"val_ler\", \n",
    "                                                                          simple_value=epoch_val_ler)]), epoch)\n",
    "                    \n",
    "                    print('Cost: Training =', np.mean(epoch_train_cost), \n",
    "                          'Validation =', epoch_val_cost)\n",
    "                    print('ler: Training =', np.mean(epoch_train_ler), 'Validation =', epoch_val_ler)\n",
    "                    print('-------------------------------------------------------------------------------')\n",
    "                    self.saver.save(sess, self.savefile)\n",
    "                    epoch_train_cost = []\n",
    "                    epoch_train_ler = []\n",
    "                    epoch_time = time.time()\n",
    "                    epoch+=1\n",
    "            writer.close()\n",
    "            print('Total runtime =', round(time.time() - start), 'seconds')\n",
    "            \n",
    "    def predict(self, X, X_width):\n",
    "        with tf.Session() as sess:\n",
    "            # restore the model\n",
    "            self.saver.restore(sess, self.savefile)\n",
    "            P = sess.run(self.prediction, feed_dict={self.images : X, self.lengths : X_width})\n",
    "        return P"
   ]
  },
  {
   "cell_type": "code",
   "execution_count": null,
   "metadata": {
    "collapsed": false
   },
   "outputs": [
    {
     "name": "stdout",
     "output_type": "stream",
     "text": [
      "Initialized\n",
      "Step 0: 0 seconds\n",
      "Minibatch cost at step 0: 242.586594\n",
      "Label = Ultratoryism|,|that|the|Commons|House|upon|a\n",
      "Prediction = !z!z!z!.!.!.!u!u!o!o!ououou\n",
      "Prediction with spell check = !z!z!z!.!.!.!u!u!o!o!ououou\n",
      "Step 6000: 1922 seconds\n",
      "Minibatch cost at step 6000: 79.728615\n",
      "Label = rather|indignant|,|but|we|took|the\n",
      "Prediction = ale|toed|tod|ae|thle|he.\n",
      "Prediction with spell check = all|told|to|a|the|he\n",
      "Epoch 1 Completed\n",
      "Time = 1974 seconds\n",
      "Cost: Training = 127.348 Validation = 109.021\n",
      "ler: Training = 0.819128 Validation = 0.687795\n",
      "-------------------------------------------------------------------------------\n",
      "Step 12000: 1998 seconds\n",
      "Minibatch cost at step 12000: 0.000000\n",
      "Label = For|many|years|my|union|had|to|present|its|views\n",
      "Prediction = the|any|pon|,|wanthath|pant|th|the\n",
      "Prediction with spell check = the|any|pon|i|wanthath|part|the|the\n",
      "Epoch 2 Completed\n",
      "Time = 1958 seconds\n",
      "Cost: Training = 100.527 Validation = 92.8315\n",
      "ler: Training = 0.651759 Validation = 0.586123\n",
      "-------------------------------------------------------------------------------\n",
      "Step 18000: 1992 seconds\n",
      "Minibatch cost at step 18000: 82.334198\n",
      "Label = to|England|,|and|returned|to|Rome|for|the|winter|.|In\n",
      "Prediction = t|oghed|,|ad|shed|to|te|fe|the|dede|.|t\n",
      "Prediction with spell check = t|other|i|and|she|to|the|he|the|deed|i|t\n",
      "Epoch 3 Completed\n",
      "Time = 1953 seconds\n",
      "Cost: Training = 88.089 Validation = 84.4125\n",
      "ler: Training = 0.582054 Validation = 0.530117\n",
      "-------------------------------------------------------------------------------\n",
      "Step 24000: 1996 seconds\n",
      "Minibatch cost at step 24000: 45.904778\n",
      "Label = whole|principle|of|the|State|service|and\n",
      "Prediction = wtahe|prinelte|ot|the|whale|sersice|ald\n",
      "Prediction with spell check = the|prinelte|to|the|while|service|and\n",
      "Epoch 4 Completed\n",
      "Time = 1955 seconds\n",
      "Cost: Training = 77.4008 Validation = 72.3029\n",
      "ler: Training = 0.505536 Validation = 0.441579\n",
      "-------------------------------------------------------------------------------\n",
      "Step 30000: 1997 seconds\n",
      "Minibatch cost at step 30000: 82.805992\n",
      "Label = People|will|be|so|great|at|the|return|of|Ultratoryism|,|that|the\n",
      "Prediction = tophe|nl|he|so|pet|at|the|wton|of|lctogion|,|thet|th\n",
      "Prediction with spell check = the|no|he|so|yet|at|the|won|of|lctogion|i|the|the\n",
      "Epoch 5 Completed\n",
      "Time = 1956 seconds\n",
      "Cost: Training = 67.5218 Validation = 62.9291\n",
      "ler: Training = 0.440324 Validation = 0.384707\n",
      "-------------------------------------------------------------------------------\n",
      "Step 36000: 1999 seconds\n",
      "Minibatch cost at step 36000: 78.167221\n",
      "Label = Supplies|of|meat|and|dairy|produce|were\n",
      "Prediction = srgion|of|meat|and|onso|poscs|ner\n",
      "Prediction with spell check = surgeon|of|met|and|onto|ross|her\n",
      "Epoch 6 Completed\n",
      "Time = 1957 seconds\n",
      "Cost: Training = 60.9022 Validation = 58.8768\n",
      "ler: Training = 0.398839 Validation = 0.355239\n",
      "-------------------------------------------------------------------------------\n",
      "Step 42000: 1999 seconds\n",
      "Minibatch cost at step 42000: 45.515709\n",
      "Label = \"|Ban-the-Bomb|\"|demonstrators|.|Police|leave\n",
      "Prediction = \"|Bam-the-bont.|demonseabors.|Potice|leanre\n",
      "Prediction with spell check = i|Bam-the-bont.|demonseabors.|notice|leave\n",
      "Epoch 7 Completed\n",
      "Time = 1958 seconds\n",
      "Cost: Training = 55.9517 Validation = 55.943\n",
      "ler: Training = 0.365002 Validation = 0.332877\n",
      "-------------------------------------------------------------------------------\n",
      "Step 48000: 2000 seconds\n",
      "Minibatch cost at step 48000: 0.110154\n",
      "Label = and|shaping|your|little|craft|,|upside-down|.|For|cheapness\n",
      "Prediction = ad|tayein|por|hile|and|atletlen|to|haes\n",
      "Prediction with spell check = and|taken|for|while|and|atletlen|to|has\n",
      "Epoch 8 Completed\n",
      "Time = 1958 seconds\n",
      "Cost: Training = 52.2425 Validation = 52.3239\n",
      "ler: Training = 0.34098 Validation = 0.311672\n",
      "-------------------------------------------------------------------------------\n",
      "Step 54000: 2001 seconds\n",
      "Minibatch cost at step 54000: 76.448753\n",
      "Label = both|economic|and|political|,|and|revealed|once|again|the\n",
      "Prediction = with|ecmenie|and|pultlen|,|and|renailed|ane|agin|the\n",
      "Prediction with spell check = with|ecmenie|and|pulled|i|and|remained|and|again|the\n",
      "Epoch 9 Completed\n",
      "Time = 1960 seconds\n",
      "Cost: Training = 49.1868 Validation = 49.5948\n",
      "ler: Training = 0.322549 Validation = 0.29226\n",
      "-------------------------------------------------------------------------------\n",
      "Step 60000: 2001 seconds\n",
      "Minibatch cost at step 60000: 76.514305\n",
      "Label = South|Africa|that|Dr.|Verwoerd|is|leading|them\n",
      "Prediction = bonke|freon|thet|or|omer|d|s|leaing|then\n",
      "Prediction with spell check = bone|from|the|or|over|d|s|leaving|then\n",
      "Epoch 10 Completed\n",
      "Time = 1959 seconds\n",
      "Cost: Training = 46.7597 Validation = 46.9605\n",
      "ler: Training = 0.30562 Validation = 0.27635\n",
      "-------------------------------------------------------------------------------\n",
      "Step 66000: 2001 seconds\n",
      "Minibatch cost at step 66000: 19.959845\n",
      "Label = give|the|system|a|trial|,|adding|that|it\n",
      "Prediction = give|the|srsten|a|trial|,|acking|thatit\n",
      "Prediction with spell check = give|the|system|a|trick|i|acting|that\n",
      "Epoch 11 Completed\n",
      "Time = 1962 seconds\n",
      "Cost: Training = 44.483 Validation = 45.1838\n",
      "ler: Training = 0.294004 Validation = 0.267924\n",
      "-------------------------------------------------------------------------------\n"
     ]
    },
    {
     "ename": "KeyboardInterrupt",
     "evalue": "",
     "traceback": [
      "\u001b[0;31m---------------------------------------------------------------------------\u001b[0m",
      "\u001b[0;31mKeyboardInterrupt\u001b[0m                         Traceback (most recent call last)",
      "\u001b[0;32m<ipython-input-12-95d709fa251a>\u001b[0m in \u001b[0;36m<module>\u001b[0;34m()\u001b[0m\n\u001b[1;32m      1\u001b[0m \u001b[0mmodel\u001b[0m \u001b[0;34m=\u001b[0m \u001b[0mCRNN\u001b[0m\u001b[0;34m(\u001b[0m\u001b[0mconfig\u001b[0m\u001b[0;34m=\u001b[0m\u001b[0mconfig_CRNN\u001b[0m\u001b[0;34m,\u001b[0m \u001b[0msavefile\u001b[0m\u001b[0;34m=\u001b[0m\u001b[0;34m'./saved_model/lines/model_leaky_relu_v25Aug17'\u001b[0m\u001b[0;34m)\u001b[0m\u001b[0;34m\u001b[0m\u001b[0m\n\u001b[0;32m----> 2\u001b[0;31m \u001b[0mmodel\u001b[0m\u001b[0;34m.\u001b[0m\u001b[0mtrain\u001b[0m\u001b[0;34m(\u001b[0m\u001b[0;34m)\u001b[0m\u001b[0;34m\u001b[0m\u001b[0m\n\u001b[0m",
      "\u001b[0;32m<ipython-input-10-b4201500485c>\u001b[0m in \u001b[0;36mtrain\u001b[0;34m(self)\u001b[0m\n\u001b[1;32m    277\u001b[0m                 _, c, ler_, predictions, summ = sess.run([self.optimizer, self.cost, self.ler,\n\u001b[1;32m    278\u001b[0m                                                           self.prediction, summaries],\n\u001b[0;32m--> 279\u001b[0;31m                                                          feed_dict=feed_dict)\n\u001b[0m\u001b[1;32m    280\u001b[0m                 \u001b[0mwriter\u001b[0m\u001b[0;34m.\u001b[0m\u001b[0madd_summary\u001b[0m\u001b[0;34m(\u001b[0m\u001b[0msumm\u001b[0m\u001b[0;34m,\u001b[0m \u001b[0mstep\u001b[0m\u001b[0;34m)\u001b[0m\u001b[0;34m\u001b[0m\u001b[0m\n\u001b[1;32m    281\u001b[0m \u001b[0;34m\u001b[0m\u001b[0m\n",
      "\u001b[0;32m~/anaconda3/envs/deepLearn/lib/python3.6/site-packages/tensorflow/python/client/session.py\u001b[0m in \u001b[0;36mrun\u001b[0;34m(self, fetches, feed_dict, options, run_metadata)\u001b[0m\n\u001b[1;32m    893\u001b[0m     \u001b[0;32mtry\u001b[0m\u001b[0;34m:\u001b[0m\u001b[0;34m\u001b[0m\u001b[0m\n\u001b[1;32m    894\u001b[0m       result = self._run(None, fetches, feed_dict, options_ptr,\n\u001b[0;32m--> 895\u001b[0;31m                          run_metadata_ptr)\n\u001b[0m\u001b[1;32m    896\u001b[0m       \u001b[0;32mif\u001b[0m \u001b[0mrun_metadata\u001b[0m\u001b[0;34m:\u001b[0m\u001b[0;34m\u001b[0m\u001b[0m\n\u001b[1;32m    897\u001b[0m         \u001b[0mproto_data\u001b[0m \u001b[0;34m=\u001b[0m \u001b[0mtf_session\u001b[0m\u001b[0;34m.\u001b[0m\u001b[0mTF_GetBuffer\u001b[0m\u001b[0;34m(\u001b[0m\u001b[0mrun_metadata_ptr\u001b[0m\u001b[0;34m)\u001b[0m\u001b[0;34m\u001b[0m\u001b[0m\n",
      "\u001b[0;32m~/anaconda3/envs/deepLearn/lib/python3.6/site-packages/tensorflow/python/client/session.py\u001b[0m in \u001b[0;36m_run\u001b[0;34m(self, handle, fetches, feed_dict, options, run_metadata)\u001b[0m\n\u001b[1;32m   1122\u001b[0m     \u001b[0;32mif\u001b[0m \u001b[0mfinal_fetches\u001b[0m \u001b[0;32mor\u001b[0m \u001b[0mfinal_targets\u001b[0m \u001b[0;32mor\u001b[0m \u001b[0;34m(\u001b[0m\u001b[0mhandle\u001b[0m \u001b[0;32mand\u001b[0m \u001b[0mfeed_dict_tensor\u001b[0m\u001b[0;34m)\u001b[0m\u001b[0;34m:\u001b[0m\u001b[0;34m\u001b[0m\u001b[0m\n\u001b[1;32m   1123\u001b[0m       results = self._do_run(handle, final_targets, final_fetches,\n\u001b[0;32m-> 1124\u001b[0;31m                              feed_dict_tensor, options, run_metadata)\n\u001b[0m\u001b[1;32m   1125\u001b[0m     \u001b[0;32melse\u001b[0m\u001b[0;34m:\u001b[0m\u001b[0;34m\u001b[0m\u001b[0m\n\u001b[1;32m   1126\u001b[0m       \u001b[0mresults\u001b[0m \u001b[0;34m=\u001b[0m \u001b[0;34m[\u001b[0m\u001b[0;34m]\u001b[0m\u001b[0;34m\u001b[0m\u001b[0m\n",
      "\u001b[0;32m~/anaconda3/envs/deepLearn/lib/python3.6/site-packages/tensorflow/python/client/session.py\u001b[0m in \u001b[0;36m_do_run\u001b[0;34m(self, handle, target_list, fetch_list, feed_dict, options, run_metadata)\u001b[0m\n\u001b[1;32m   1319\u001b[0m     \u001b[0;32mif\u001b[0m \u001b[0mhandle\u001b[0m \u001b[0;32mis\u001b[0m \u001b[0;32mNone\u001b[0m\u001b[0;34m:\u001b[0m\u001b[0;34m\u001b[0m\u001b[0m\n\u001b[1;32m   1320\u001b[0m       return self._do_call(_run_fn, self._session, feeds, fetches, targets,\n\u001b[0;32m-> 1321\u001b[0;31m                            options, run_metadata)\n\u001b[0m\u001b[1;32m   1322\u001b[0m     \u001b[0;32melse\u001b[0m\u001b[0;34m:\u001b[0m\u001b[0;34m\u001b[0m\u001b[0m\n\u001b[1;32m   1323\u001b[0m       \u001b[0;32mreturn\u001b[0m \u001b[0mself\u001b[0m\u001b[0;34m.\u001b[0m\u001b[0m_do_call\u001b[0m\u001b[0;34m(\u001b[0m\u001b[0m_prun_fn\u001b[0m\u001b[0;34m,\u001b[0m \u001b[0mself\u001b[0m\u001b[0;34m.\u001b[0m\u001b[0m_session\u001b[0m\u001b[0;34m,\u001b[0m \u001b[0mhandle\u001b[0m\u001b[0;34m,\u001b[0m \u001b[0mfeeds\u001b[0m\u001b[0;34m,\u001b[0m \u001b[0mfetches\u001b[0m\u001b[0;34m)\u001b[0m\u001b[0;34m\u001b[0m\u001b[0m\n",
      "\u001b[0;32m~/anaconda3/envs/deepLearn/lib/python3.6/site-packages/tensorflow/python/client/session.py\u001b[0m in \u001b[0;36m_do_call\u001b[0;34m(self, fn, *args)\u001b[0m\n\u001b[1;32m   1325\u001b[0m   \u001b[0;32mdef\u001b[0m \u001b[0m_do_call\u001b[0m\u001b[0;34m(\u001b[0m\u001b[0mself\u001b[0m\u001b[0;34m,\u001b[0m \u001b[0mfn\u001b[0m\u001b[0;34m,\u001b[0m \u001b[0;34m*\u001b[0m\u001b[0margs\u001b[0m\u001b[0;34m)\u001b[0m\u001b[0;34m:\u001b[0m\u001b[0;34m\u001b[0m\u001b[0m\n\u001b[1;32m   1326\u001b[0m     \u001b[0;32mtry\u001b[0m\u001b[0;34m:\u001b[0m\u001b[0;34m\u001b[0m\u001b[0m\n\u001b[0;32m-> 1327\u001b[0;31m       \u001b[0;32mreturn\u001b[0m \u001b[0mfn\u001b[0m\u001b[0;34m(\u001b[0m\u001b[0;34m*\u001b[0m\u001b[0margs\u001b[0m\u001b[0;34m)\u001b[0m\u001b[0;34m\u001b[0m\u001b[0m\n\u001b[0m\u001b[1;32m   1328\u001b[0m     \u001b[0;32mexcept\u001b[0m \u001b[0merrors\u001b[0m\u001b[0;34m.\u001b[0m\u001b[0mOpError\u001b[0m \u001b[0;32mas\u001b[0m \u001b[0me\u001b[0m\u001b[0;34m:\u001b[0m\u001b[0;34m\u001b[0m\u001b[0m\n\u001b[1;32m   1329\u001b[0m       \u001b[0mmessage\u001b[0m \u001b[0;34m=\u001b[0m \u001b[0mcompat\u001b[0m\u001b[0;34m.\u001b[0m\u001b[0mas_text\u001b[0m\u001b[0;34m(\u001b[0m\u001b[0me\u001b[0m\u001b[0;34m.\u001b[0m\u001b[0mmessage\u001b[0m\u001b[0;34m)\u001b[0m\u001b[0;34m\u001b[0m\u001b[0m\n",
      "\u001b[0;32m~/anaconda3/envs/deepLearn/lib/python3.6/site-packages/tensorflow/python/client/session.py\u001b[0m in \u001b[0;36m_run_fn\u001b[0;34m(session, feed_dict, fetch_list, target_list, options, run_metadata)\u001b[0m\n\u001b[1;32m   1304\u001b[0m           return tf_session.TF_Run(session, options,\n\u001b[1;32m   1305\u001b[0m                                    \u001b[0mfeed_dict\u001b[0m\u001b[0;34m,\u001b[0m \u001b[0mfetch_list\u001b[0m\u001b[0;34m,\u001b[0m \u001b[0mtarget_list\u001b[0m\u001b[0;34m,\u001b[0m\u001b[0;34m\u001b[0m\u001b[0m\n\u001b[0;32m-> 1306\u001b[0;31m                                    status, run_metadata)\n\u001b[0m\u001b[1;32m   1307\u001b[0m \u001b[0;34m\u001b[0m\u001b[0m\n\u001b[1;32m   1308\u001b[0m     \u001b[0;32mdef\u001b[0m \u001b[0m_prun_fn\u001b[0m\u001b[0;34m(\u001b[0m\u001b[0msession\u001b[0m\u001b[0;34m,\u001b[0m \u001b[0mhandle\u001b[0m\u001b[0;34m,\u001b[0m \u001b[0mfeed_dict\u001b[0m\u001b[0;34m,\u001b[0m \u001b[0mfetch_list\u001b[0m\u001b[0;34m)\u001b[0m\u001b[0;34m:\u001b[0m\u001b[0;34m\u001b[0m\u001b[0m\n",
      "\u001b[0;31mKeyboardInterrupt\u001b[0m: "
     ],
     "output_type": "error"
    }
   ],
   "source": [
    "model = CRNN(config=config_CRNN, savefile='./saved_model/lines/model_leaky_relu_v25Aug17')\n",
    "model.train()"
   ]
  },
  {
   "cell_type": "code",
   "execution_count": 19,
   "metadata": {
    "collapsed": true
   },
   "outputs": [],
   "source": [
    "def predict_function(image, saved_model = './saved_model/lines/model_CRNN_v22Aug17_0'):\n",
    "    \n",
    "    # Prepare image\n",
    "    \n",
    "    height_cap = 40\n",
    "    width_cap = 800\n",
    "    \n",
    "    # Threshold images to remove background and invert colors\n",
    "    im = cv2.bitwise_not(image)\n",
    "    \n",
    "    im = im.astype(np.float32)\n",
    "    im = np.divide(im, 255.0)\n",
    "    \n",
    "    # Deskew image (remove slant)\n",
    "    im = bounding_box(deskew(im, get_skew_angle(im)))\n",
    "    \n",
    "    # Resize - put a height cap and resize accordingly\n",
    "    out_width = int((im.shape[1]/im.shape[0])*height_cap)\n",
    "\n",
    "    if out_width < width_cap:\n",
    "        im_widths = out_width\n",
    "\n",
    "        im_without_pad = cv2.resize(im, (out_width, height_cap))\n",
    "        im = np.zeros((height_cap, width_cap), dtype=np.float32)\n",
    "\n",
    "        im_without_pad = im_without_pad.astype(np.float32)\n",
    "        im[:,:out_width] = im_without_pad\n",
    "    else:\n",
    "        im_widths = width_cap\n",
    "        im = cv2.resize(im, (width_cap, height_cap))\n",
    "    \n",
    "    plt.imshow(im, cmap='gray')\n",
    "    plt.show()\n",
    "\n",
    "    \n",
    "    # Predict\n",
    "    pred = CRNN(config=config_CRNN, savefile=saved_model)\n",
    "    pred.val_images = val_images.reshape((len(val_images), pred.config.im_height,\n",
    "                                         pred.config.im_width, 1))\n",
    "    pred.val_labels = val_labels\n",
    "    pred.val_labels_sparse = sparse_tuple_from(pred.val_labels)\n",
    "    pred.val_lab_lengths = val_lab_lengths\n",
    "    pred.val_lengths = val_im_widths//8\n",
    "    pred.read_and_decode()\n",
    "    pred.net()\n",
    "\n",
    "    im_model = np.reshape(im, (pred.config.batch_size, pred.config.im_height, pred.config.im_width, 1))\n",
    "    width_model = list(np.reshape(im_widths, (pred.config.batch_size))//8)\n",
    "\n",
    "    return ''.join([char_map_inv[i] for i in pred.predict(im_model, width_model)[0][0][1]])"
   ]
  },
  {
   "cell_type": "code",
   "execution_count": 42,
   "metadata": {
    "collapsed": true
   },
   "outputs": [],
   "source": [
    "def predict_test(im, im_widths, saved_model = './saved_model/lines/model_CRNN_v20Aug17_0'):\n",
    "    plt.figure(figsize=(20,10))\n",
    "    plt.imshow(im, cmap='gray')\n",
    "    plt.show()\n",
    "    \n",
    "    # Predict\n",
    "    pred = CRNN(config=config_CRNN, savefile=saved_model)\n",
    "    pred.val_images = val_images.reshape((len(val_images), pred.config.im_height,\n",
    "                                         pred.config.im_width, 1))\n",
    "    pred.val_labels = val_labels\n",
    "    pred.val_labels_sparse = sparse_tuple_from(pred.val_labels)\n",
    "    pred.val_lab_lengths = val_lab_lengths\n",
    "    pred.val_lengths = val_im_widths//8\n",
    "    pred.read_and_decode()\n",
    "    pred.net()\n",
    "\n",
    "    im_model = np.reshape(im, (pred.config.batch_size, pred.config.im_height, pred.config.im_width, 1))\n",
    "    width_model = list(np.reshape(im_widths, (pred.config.batch_size))//8)\n",
    "\n",
    "    return ''.join([char_map_inv[i] for i in pred.predict(im_model, width_model)[0][0][1]])"
   ]
  },
  {
   "cell_type": "code",
   "execution_count": 26,
   "metadata": {
    "collapsed": false
   },
   "outputs": [
    {
     "data": {
      "image/png": "[encoded data removed]",
      "text/plain": [
       "<matplotlib.figure.Figure at 0x7f33939a5780>"
      ]
     },
     "metadata": {},
     "output_type": "display_data"
    }
   ],
   "source": [
    "im =cv2.imread('processed-strokes.png', 0)\n",
    "crop_im = im[150:200,:]\n",
    "plt.imshow(crop_im, cmap='gray')\n",
    "plt.show()"
   ]
  },
  {
   "cell_type": "code",
   "execution_count": 53,
   "metadata": {
    "collapsed": false
   },
   "outputs": [
    {
     "data": {
      "image/png": "[encoded data removed]",
      "text/plain": [
       "<matplotlib.figure.Figure at 0x7f3393da0898>"
      ]
     },
     "metadata": {},
     "output_type": "display_data"
    },
    {
     "name": "stdout",
     "output_type": "stream",
     "text": [
      "INFO:tensorflow:Restoring parameters from ./saved_model/lines/model_CRNN_v20Aug17_0\n",
      "So|they|proveded|to|se|if|the|coast\n"
     ]
    }
   ],
   "source": [
    "print(predict_test(test_images[10], test_im_widths[10]))"
   ]
  },
  {
   "cell_type": "code",
   "execution_count": 54,
   "metadata": {
    "collapsed": false
   },
   "outputs": [
    {
     "data": {
      "image/png": "[encoded data removed]",
      "text/plain": [
       "<matplotlib.figure.Figure at 0x7f33c25bbd30>"
      ]
     },
     "metadata": {},
     "output_type": "display_data"
    },
    {
     "name": "stdout",
     "output_type": "stream",
     "text": [
      "INFO:tensorflow:Restoring parameters from ./saved_model/lines/model_CRNN_v20Aug17_0\n",
      "therl|to|a|wait|the|erviwval|of\n"
     ]
    }
   ],
   "source": [
    "print(predict_function(crop_im))"
   ]
  }
 ],
 "metadata": {
  "kernelspec": {
   "display_name": "Python 3",
   "language": "python",
   "name": "python3"
  },
  "language_info": {
   "codemirror_mode": {
    "name": "ipython",
    "version": 3
   },
   "file_extension": ".py",
   "mimetype": "text/x-python",
   "name": "python",
   "nbconvert_exporter": "python",
   "pygments_lexer": "ipython3",
   "version": "3.6.0"
  }
 },
 "nbformat": 4,
 "nbformat_minor": 0
}
